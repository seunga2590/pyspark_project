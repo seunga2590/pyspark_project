{
 "cells": [
  {
   "cell_type": "code",
   "execution_count": 23,
   "id": "3a15a068",
   "metadata": {},
   "outputs": [],
   "source": [
    "from pyspark.sql import  SQLContext \n",
    "from pyspark import SparkContext\n",
    "\n",
    "from pyspark.ml.classification import LogisticRegression\n",
    "from pyspark.ml.feature import VectorAssembler\n",
    "from pyspark.ml.evaluation import MulticlassClassificationEvaluator\n",
    "import pyspark.sql.functions as f\n",
    "from pyspark.sql import SQLContext, Row, SparkSession\n",
    "import pandas as pd\n",
    "from pyspark.sql.window import Window\n",
    "\n",
    "from pyspark.sql.functions import when, udf, col, regexp_replace\n",
    "import pyspark.sql.functions as f\n",
    "from pyspark.sql.types import DoubleType, IntegerType, StringType\n",
    "import matplotlib.pyplot as plt\n",
    "import matplotlib\n",
    "import pandas as pd\n",
    "matplotlib.rcParams['font.family'] = 'Malgun Gothic'\n",
    "matplotlib.rcParams['axes.unicode_minus'] = False"
   ]
  },
  {
   "cell_type": "code",
   "execution_count": 2,
   "id": "19bec480",
   "metadata": {},
   "outputs": [
    {
     "name": "stderr",
     "output_type": "stream",
     "text": [
      "Setting default log level to \"WARN\".\n",
      "To adjust logging level use sc.setLogLevel(newLevel). For SparkR, use setLogLevel(newLevel).\n"
     ]
    },
    {
     "name": "stdout",
     "output_type": "stream",
     "text": [
      "22/12/26 10:32:36 WARN NativeCodeLoader: Unable to load native-hadoop library for your platform... using builtin-java classes where applicable\n"
     ]
    },
    {
     "name": "stderr",
     "output_type": "stream",
     "text": [
      "/home/mobile/spark-3.3.1-bin-hadoop2/python/pyspark/sql/context.py:112: FutureWarning: Deprecated in 3.0.0. Use SparkSession.builder.getOrCreate() instead.\n",
      "  warnings.warn(\n"
     ]
    }
   ],
   "source": [
    "sc = SparkContext('local')\n",
    "sqlctx = SQLContext(sc)"
   ]
  },
  {
   "cell_type": "code",
   "execution_count": 3,
   "id": "a88d9557",
   "metadata": {},
   "outputs": [
    {
     "name": "stderr",
     "output_type": "stream",
     "text": [
      "                                                                                \r"
     ]
    }
   ],
   "source": [
    "flight_df_2020_F = sqlctx.read.csv( './project/Feb_2020_ontime.csv', inferSchema=True, header = True)\n",
    "flight_df_2019_F = sqlctx.read.csv( './project/Feb_2019_ontime.csv', inferSchema=True, header = True)\n",
    "flight_df_2020_J = sqlctx.read.csv( './project/Jan_2020_ontime.csv', inferSchema=True, header = True)\n",
    "flight_df_2019_J = sqlctx.read.csv( './project/Jan_2019_ontime.csv', inferSchema=True, header = True)"
   ]
  },
  {
   "cell_type": "code",
   "execution_count": 4,
   "id": "f4551452",
   "metadata": {
    "scrolled": true
   },
   "outputs": [],
   "source": [
    "# 4개의 csv file union\n",
    "flight_df = flight_df_2020_F.unionAll(flight_df_2019_F)\n",
    "flight_df = flight_df.unionAll(flight_df_2020_J)\n",
    "flight_df = flight_df.unionAll(flight_df_2019_J)"
   ]
  },
  {
   "cell_type": "code",
   "execution_count": null,
   "id": "13ae07e1",
   "metadata": {},
   "outputs": [],
   "source": [
    "print((flight_df.count(), len(flight_df.columns)))"
   ]
  },
  {
   "cell_type": "code",
   "execution_count": 5,
   "id": "6c975c56",
   "metadata": {
    "scrolled": true
   },
   "outputs": [],
   "source": [
    "#전체 컬럼 중 같은 데이터 및 null 컬럼 제거 \n",
    "flight_df = flight_df.drop('OP_UNIQUE_CARRIER', 'OP_CARRIER_AIRLINE_ID','ORIGIN_AIRPORT_ID','DEST_AIRPORT_ID','_c21', 'DEP_TIME', 'ARR_TIME')"
   ]
  },
  {
   "cell_type": "code",
   "execution_count": 6,
   "id": "b52399b4",
   "metadata": {},
   "outputs": [
    {
     "name": "stderr",
     "output_type": "stream",
     "text": [
      "[Stage 8:============================================>              (3 + 1) / 4]\r"
     ]
    },
    {
     "name": "stdout",
     "output_type": "stream",
     "text": [
      "+------------+-----------+----------+--------+-----------------+---------------------+------+-------------------+----+---------+------------+---------+---------+--------+--------+\n",
      "|DAY_OF_MONTH|DAY_OF_WEEK|OP_CARRIER|TAIL_NUM|OP_CARRIER_FL_NUM|ORIGIN_AIRPORT_SEQ_ID|ORIGIN|DEST_AIRPORT_SEQ_ID|DEST|DEP_DEL15|DEP_TIME_BLK|ARR_DEL15|CANCELLED|DIVERTED|DISTANCE|\n",
      "+------------+-----------+----------+--------+-----------------+---------------------+------+-------------------+----+---------+------------+---------+---------+--------+--------+\n",
      "|           0|          0|         0|    5067|                0|                    0|     0|                  0|   0|    42832|           0|    49153|        0|       0|       0|\n",
      "+------------+-----------+----------+--------+-----------------+---------------------+------+-------------------+----+---------+------------+---------+---------+--------+--------+\n",
      "\n"
     ]
    },
    {
     "name": "stderr",
     "output_type": "stream",
     "text": [
      "                                                                                \r"
     ]
    }
   ],
   "source": [
    "#전체 컬럼 결측치 확인\n",
    "flight_df.select([f.count(when(f.isnull(c), c)).alias(c) for c in flight_df.columns]).show()"
   ]
  },
  {
   "cell_type": "code",
   "execution_count": 7,
   "id": "258adda4",
   "metadata": {
    "scrolled": true
   },
   "outputs": [],
   "source": [
    "flight_df = flight_df.fillna({'DEP_DEL15' : 0, 'ARR_DEL15' : 0})"
   ]
  },
  {
   "cell_type": "code",
   "execution_count": 8,
   "id": "4b5e2d67",
   "metadata": {},
   "outputs": [
    {
     "name": "stderr",
     "output_type": "stream",
     "text": [
      "[Stage 11:===========================================>              (3 + 1) / 4]\r"
     ]
    },
    {
     "name": "stdout",
     "output_type": "stream",
     "text": [
      "+------------+-----------+----------+--------+-----------------+---------------------+------+-------------------+----+---------+------------+---------+---------+--------+--------+\n",
      "|DAY_OF_MONTH|DAY_OF_WEEK|OP_CARRIER|TAIL_NUM|OP_CARRIER_FL_NUM|ORIGIN_AIRPORT_SEQ_ID|ORIGIN|DEST_AIRPORT_SEQ_ID|DEST|DEP_DEL15|DEP_TIME_BLK|ARR_DEL15|CANCELLED|DIVERTED|DISTANCE|\n",
      "+------------+-----------+----------+--------+-----------------+---------------------+------+-------------------+----+---------+------------+---------+---------+--------+--------+\n",
      "|           0|          0|         0|    5067|                0|                    0|     0|                  0|   0|        0|           0|        0|        0|       0|       0|\n",
      "+------------+-----------+----------+--------+-----------------+---------------------+------+-------------------+----+---------+------------+---------+---------+--------+--------+\n",
      "\n"
     ]
    },
    {
     "name": "stderr",
     "output_type": "stream",
     "text": [
      "                                                                                \r"
     ]
    }
   ],
   "source": [
    "#전체 컬럼 결측치 확인\n",
    "flight_df.select([f.count(when(f.isnull(c), c)).alias(c) for c in flight_df.columns]).show()"
   ]
  },
  {
   "cell_type": "code",
   "execution_count": 9,
   "id": "2257aba1",
   "metadata": {
    "scrolled": true
   },
   "outputs": [],
   "source": [
    "# tail_num의 null값 제거\n",
    "flight_df = flight_df.dropna(subset = ['TAIL_NUM'])"
   ]
  },
  {
   "cell_type": "code",
   "execution_count": 10,
   "id": "963b13ec",
   "metadata": {},
   "outputs": [
    {
     "name": "stderr",
     "output_type": "stream",
     "text": [
      "[Stage 14:===========================================>              (3 + 1) / 4]\r"
     ]
    },
    {
     "name": "stdout",
     "output_type": "stream",
     "text": [
      "+------------+-----------+----------+--------+-----------------+---------------------+------+-------------------+----+---------+------------+---------+---------+--------+--------+\n",
      "|DAY_OF_MONTH|DAY_OF_WEEK|OP_CARRIER|TAIL_NUM|OP_CARRIER_FL_NUM|ORIGIN_AIRPORT_SEQ_ID|ORIGIN|DEST_AIRPORT_SEQ_ID|DEST|DEP_DEL15|DEP_TIME_BLK|ARR_DEL15|CANCELLED|DIVERTED|DISTANCE|\n",
      "+------------+-----------+----------+--------+-----------------+---------------------+------+-------------------+----+---------+------------+---------+---------+--------+--------+\n",
      "|           0|          0|         0|       0|                0|                    0|     0|                  0|   0|        0|           0|        0|        0|       0|       0|\n",
      "+------------+-----------+----------+--------+-----------------+---------------------+------+-------------------+----+---------+------------+---------+---------+--------+--------+\n",
      "\n"
     ]
    },
    {
     "name": "stderr",
     "output_type": "stream",
     "text": [
      "                                                                                \r"
     ]
    }
   ],
   "source": [
    "flight_df.select([f.count(when(f.isnull(c), c)).alias(c) for c in flight_df.columns]).show()\n",
    "\n",
    "# 전체 컬럼의 null값 처리"
   ]
  },
  {
   "cell_type": "code",
   "execution_count": 11,
   "id": "a89acf23",
   "metadata": {
    "scrolled": false
   },
   "outputs": [
    {
     "name": "stderr",
     "output_type": "stream",
     "text": [
      "[Stage 17:===========================================>              (3 + 1) / 4]\r"
     ]
    },
    {
     "name": "stdout",
     "output_type": "stream",
     "text": [
      "+------+-------+\n",
      "|ORIGIN|cnt_ori|\n",
      "+------+-------+\n",
      "|   ATL| 121458|\n",
      "|   ORD|  99615|\n",
      "|   DFW|  91433|\n",
      "|   CLT|  75292|\n",
      "|   DEN|  75062|\n",
      "|   LAX|  68691|\n",
      "|   PHX|  58148|\n",
      "|   IAH|  57023|\n",
      "|   LGA|  53489|\n",
      "|   SFO|  52492|\n",
      "|   LAS|  52311|\n",
      "|   DTW|  48957|\n",
      "|   MCO|  48136|\n",
      "|   MSP|  47100|\n",
      "|   BOS|  45711|\n",
      "|   DCA|  45221|\n",
      "|   EWR|  42393|\n",
      "|   SEA|  42288|\n",
      "|   JFK|  40220|\n",
      "|   SLC|  37361|\n",
      "+------+-------+\n",
      "only showing top 20 rows\n",
      "\n"
     ]
    },
    {
     "name": "stderr",
     "output_type": "stream",
     "text": [
      "                                                                                \r"
     ]
    }
   ],
   "source": [
    "#항공사별 운행횟수\n",
    "flight_df.groupby('ORIGIN').agg(f.count('ORIGIN').alias('cnt_ori')).orderBy(f.desc('cnt_ori')).show()"
   ]
  },
  {
   "cell_type": "markdown",
   "id": "00d4fd3d",
   "metadata": {},
   "source": [
    "'UA':'United Airlines',\n",
    "    'AS':'Alaska Airlines',\n",
    "    '9E':'Endeavor Air',\n",
    "    'B6':'JetBlue Airways',\n",
    "    'EV':'ExpressJet',\n",
    "    'F9':'Frontier Airlines',\n",
    "    'G4':'Allegiant Air',\n",
    "    'HA':'Hawaiian Airlines',\n",
    "    'MQ':'Envoy Air',\n",
    "    'NK':'Spirit Airlines',\n",
    "    'OH':'PSA Airlines',\n",
    "    'OO':'SkyWest Airlines',\n",
    "    'VX':'Virgin America',\n",
    "    'WN':'Southwest Airlines',\n",
    "    'YV':'Mesa Airline',\n",
    "    'YX':'Republic Airways',\n",
    "    'AA':'American Airlines',\n",
    "    'DL':'Delta Airlines'"
   ]
  },
  {
   "cell_type": "code",
   "execution_count": 13,
   "id": "994534de",
   "metadata": {
    "scrolled": true
   },
   "outputs": [
    {
     "name": "stderr",
     "output_type": "stream",
     "text": [
      "[Stage 20:===========================================>              (3 + 1) / 4]\r"
     ]
    },
    {
     "name": "stdout",
     "output_type": "stream",
     "text": [
      "+----------+-----------------+\n",
      "|OP_CARRIER|count(OP_CARRIER)|\n",
      "+----------+-----------------+\n",
      "|        HA|            26306|\n",
      "|        G4|            30361|\n",
      "|        F9|            41940|\n",
      "|        EV|            46477|\n",
      "|        NK|            63717|\n",
      "|        YV|            69311|\n",
      "|        AS|            80397|\n",
      "|        9E|            83194|\n",
      "|        OH|            91262|\n",
      "|        B6|            95077|\n",
      "|        MQ|            99400|\n",
      "|        YX|           106050|\n",
      "|        UA|           184039|\n",
      "|        OO|           262483|\n",
      "|        DL|           296686|\n",
      "|        AA|           296752|\n",
      "|        WN|           420255|\n",
      "+----------+-----------------+\n",
      "\n"
     ]
    },
    {
     "name": "stderr",
     "output_type": "stream",
     "text": [
      "                                                                                \r"
     ]
    }
   ],
   "source": [
    "#항공사별 운행 수\n",
    "flight_df.groupby('OP_CARRIER').agg(f.count('OP_CARRIER')).orderBy('count(OP_CARRIER)').show()"
   ]
  },
  {
   "cell_type": "code",
   "execution_count": 14,
   "id": "2ec27d28",
   "metadata": {
    "scrolled": true
   },
   "outputs": [
    {
     "name": "stdout",
     "output_type": "stream",
     "text": [
      "+------------+-----------+----------+--------+-----------------+---------------------+------+-------------------+----+---------+------------+---------+---------+--------+--------+\n",
      "|DAY_OF_MONTH|DAY_OF_WEEK|OP_CARRIER|TAIL_NUM|OP_CARRIER_FL_NUM|ORIGIN_AIRPORT_SEQ_ID|ORIGIN|DEST_AIRPORT_SEQ_ID|DEST|DEP_DEL15|DEP_TIME_BLK|ARR_DEL15|CANCELLED|DIVERTED|DISTANCE|\n",
      "+------------+-----------+----------+--------+-----------------+---------------------+------+-------------------+----+---------+------------+---------+---------+--------+--------+\n",
      "|           1|          6|        MQ|  N663AR|             3831|              1195302|   GNV|            1330303| MIA|      0.0|   0800-0859|      1.0|      0.0|     0.0|   294.0|\n",
      "|           1|          6|        MQ|  N679AE|             3844|              1524906|   TLH|            1330303| MIA|      0.0|   1900-1959|      1.0|      0.0|     0.0|   402.0|\n",
      "|           1|          6|        MQ|  N823AE|             3862|              1099005|   CHO|            1105703| CLT|      1.0|   1200-1259|      1.0|      0.0|     0.0|   245.0|\n",
      "|           1|          6|        MQ|  N823AE|             3890|              1105703|   CLT|            1099005| CHO|      0.0|   1700-1759|      1.0|      0.0|     0.0|   245.0|\n",
      "|           1|          6|        MQ|  N613AE|             3896|              1393007|   ORD|            1336705| MLI|      1.0|   1500-1559|      1.0|      0.0|     0.0|   139.0|\n",
      "|           1|          6|        MQ|  N279MQ|             3910|              1524906|   TLH|            1129806| DFW|      1.0|   0600-0659|      0.0|      0.0|     0.0|   767.0|\n",
      "|           1|          6|        MQ|  N287NN|             3918|              1129806|   DFW|            1079206| BUF|      0.0|   1800-1859|      1.0|      0.0|     0.0|  1212.0|\n",
      "|           1|          6|        MQ|  N823AE|             3928|              1043105|   AVL|            1105703| CLT|      0.0|   1600-1659|      1.0|      0.0|     0.0|    91.0|\n",
      "|           1|          6|        MQ|  N823AE|             3928|              1105703|   CLT|            1043105| AVL|      1.0|   1400-1459|      1.0|      0.0|     0.0|    91.0|\n",
      "|           1|          6|        MQ|  N272NN|             3930|              1393007|   ORD|            1348702| MSP|      1.0|   1600-1659|      1.0|      0.0|     0.0|   334.0|\n",
      "|           1|          6|        MQ|  N849AE|             3936|              1129806|   DFW|            1540103| TXK|      1.0|   1300-1359|      1.0|      0.0|     0.0|   181.0|\n",
      "|           1|          6|        MQ|  N286NN|             3958|              1020803|   AGS|            1129806| DFW|      1.0|   1600-1659|      0.0|      0.0|     0.0|   874.0|\n",
      "|           1|          6|        MQ|  N680AE|             3978|              1393007|   ORD|            1104205| CLE|      1.0|   0800-0859|      0.0|      0.0|     0.0|   315.0|\n",
      "|           1|          6|        MQ|  N835AE|             3979|              1251103|   JLN|            1393007| ORD|      0.0|   0001-0559|      1.0|      0.0|     0.0|   484.0|\n",
      "|           1|          6|        MQ|  N270NN|             3984|              1129806|   DFW|            1348602| MSO|      1.0|   1700-1759|      0.0|      0.0|     0.0|  1320.0|\n",
      "|           1|          6|        MQ|  N612AE|             3987|              1330303|   MIA|            1393102| ORF|      1.0|   2100-2159|      1.0|      0.0|     0.0|   802.0|\n",
      "|           1|          6|        MQ|  N245NN|             3998|              1100303|   CID|            1129806| DFW|      1.0|   1100-1159|      0.0|      0.0|     0.0|   685.0|\n",
      "|           1|          6|        MQ|  N245NN|             3998|              1129806|   DFW|            1100303| CID|      0.0|   0800-0859|      1.0|      0.0|     0.0|   685.0|\n",
      "|           1|          6|        MQ|  N622AE|             4012|              1104205|   CLE|            1330303| MIA|      1.0|   1300-1359|      1.0|      0.0|     0.0|  1080.0|\n",
      "|           1|          6|        MQ|  N622AE|             4012|              1330303|   MIA|            1104205| CLE|      0.0|   1000-1059|      1.0|      0.0|     0.0|  1080.0|\n",
      "+------------+-----------+----------+--------+-----------------+---------------------+------+-------------------+----+---------+------------+---------+---------+--------+--------+\n",
      "only showing top 20 rows\n",
      "\n"
     ]
    }
   ],
   "source": [
    "# 항공사별 지연율 = 항공사별 지연 횟수/항공사별 운행횟수\n",
    "# 지연 횟수 -> 출발 시 지연 + 도착 시 지연 (같은 비행의 지연은 한 번으로 처리)\n",
    "\n",
    "delay_df = flight_df.where('DEP_DEL15 = 1 or ARR_DEL15 = 1')S\n",
    "delay_df.show()"
   ]
  },
  {
   "cell_type": "code",
   "execution_count": 15,
   "id": "d17a17ab",
   "metadata": {
    "scrolled": true
   },
   "outputs": [
    {
     "name": "stderr",
     "output_type": "stream",
     "text": [
      "[Stage 24:===========================================>              (3 + 1) / 4]\r"
     ]
    },
    {
     "name": "stdout",
     "output_type": "stream",
     "text": [
      "+----------+---------+\n",
      "|OP_CARRIER|delay_cnt|\n",
      "+----------+---------+\n",
      "|        UA|    37681|\n",
      "|        NK|    12760|\n",
      "|        AA|    63265|\n",
      "|        EV|    10113|\n",
      "|        B6|    24130|\n",
      "|        DL|    50281|\n",
      "|        OO|    58317|\n",
      "|        F9|    10383|\n",
      "|        YV|    14511|\n",
      "|        MQ|    23873|\n",
      "|        OH|    22096|\n",
      "|        HA|     3652|\n",
      "|        G4|     7964|\n",
      "|        YX|    20677|\n",
      "|        AS|    18731|\n",
      "|        WN|    78651|\n",
      "|        9E|    15926|\n",
      "+----------+---------+\n",
      "\n"
     ]
    },
    {
     "name": "stderr",
     "output_type": "stream",
     "text": [
      "                                                                                \r"
     ]
    }
   ],
   "source": [
    "#항공사별 지연횟수\n",
    "delay_cnt = delay_df.groupby('OP_CARRIER').agg(f.count('OP_CARRIER').alias('delay_cnt'))\n",
    "delay_cnt.show()"
   ]
  },
  {
   "cell_type": "code",
   "execution_count": 16,
   "id": "82de34a0",
   "metadata": {
    "scrolled": true
   },
   "outputs": [
    {
     "name": "stderr",
     "output_type": "stream",
     "text": [
      "[Stage 27:===========================================>              (3 + 1) / 4]\r"
     ]
    },
    {
     "name": "stdout",
     "output_type": "stream",
     "text": [
      "+----------+-------+\n",
      "|OP_CARRIER|opr_cnt|\n",
      "+----------+-------+\n",
      "|        WN| 420255|\n",
      "|        AA| 296752|\n",
      "|        DL| 296686|\n",
      "|        OO| 262483|\n",
      "|        UA| 184039|\n",
      "|        YX| 106050|\n",
      "|        MQ|  99400|\n",
      "|        B6|  95077|\n",
      "|        OH|  91262|\n",
      "|        9E|  83194|\n",
      "|        AS|  80397|\n",
      "|        YV|  69311|\n",
      "|        NK|  63717|\n",
      "|        EV|  46477|\n",
      "|        F9|  41940|\n",
      "|        G4|  30361|\n",
      "|        HA|  26306|\n",
      "+----------+-------+\n",
      "\n"
     ]
    },
    {
     "name": "stderr",
     "output_type": "stream",
     "text": [
      "                                                                                \r"
     ]
    }
   ],
   "source": [
    "#항공사별 운항횟수\n",
    "opr_cnt = flight_df.groupby('OP_CARRIER').agg(f.count('OP_CARRIER').alias('opr_cnt')).orderBy(f.desc('opr_cnt'))\n",
    "opr_cnt.show()"
   ]
  },
  {
   "cell_type": "code",
   "execution_count": 17,
   "id": "76dd18fb",
   "metadata": {
    "scrolled": false
   },
   "outputs": [
    {
     "name": "stderr",
     "output_type": "stream",
     "text": [
      "[Stage 31:=============>    (3 + 1) / 4][Stage 33:>                 (0 + 0) / 1]\r"
     ]
    },
    {
     "name": "stdout",
     "output_type": "stream",
     "text": [
      "+----------+-------+---------+\n",
      "|OP_CARRIER|opr_cnt|delay_cnt|\n",
      "+----------+-------+---------+\n",
      "|        UA| 184039|    37681|\n",
      "|        NK|  63717|    12760|\n",
      "|        AA| 296752|    63265|\n",
      "|        EV|  46477|    10113|\n",
      "|        B6|  95077|    24130|\n",
      "|        DL| 296686|    50281|\n",
      "|        OO| 262483|    58317|\n",
      "|        F9|  41940|    10383|\n",
      "|        YV|  69311|    14511|\n",
      "|        MQ|  99400|    23873|\n",
      "|        OH|  91262|    22096|\n",
      "|        HA|  26306|     3652|\n",
      "|        G4|  30361|     7964|\n",
      "|        YX| 106050|    20677|\n",
      "|        AS|  80397|    18731|\n",
      "|        WN| 420255|    78651|\n",
      "|        9E|  83194|    15926|\n",
      "+----------+-------+---------+\n",
      "\n"
     ]
    },
    {
     "name": "stderr",
     "output_type": "stream",
     "text": [
      "                                                                                \r"
     ]
    }
   ],
   "source": [
    "# 항공사별 지연횟수, 운영횟수 join\n",
    "join_delay = opr_cnt.join(delay_cnt, on = ['OP_CARRIER'])\n",
    "join_delay.show()"
   ]
  },
  {
   "cell_type": "code",
   "execution_count": 18,
   "id": "9745d817",
   "metadata": {},
   "outputs": [
    {
     "name": "stdout",
     "output_type": "stream",
     "text": [
      "root\n",
      " |-- OP_CARRIER: string (nullable = true)\n",
      " |-- opr_cnt: long (nullable = false)\n",
      " |-- delay_cnt: long (nullable = false)\n",
      "\n"
     ]
    }
   ],
   "source": [
    "join_delay.printSchema()"
   ]
  },
  {
   "cell_type": "code",
   "execution_count": 26,
   "id": "52e78f01",
   "metadata": {},
   "outputs": [
    {
     "name": "stdout",
     "output_type": "stream",
     "text": [
      "22/12/26 10:44:33 WARN WindowExec: No Partition Defined for Window operation! Moving all data to a single partition, this can cause serious performance degradation.\n",
      "22/12/26 10:44:33 WARN WindowExec: No Partition Defined for Window operation! Moving all data to a single partition, this can cause serious performance degradation.\n",
      "22/12/26 10:44:33 WARN WindowExec: No Partition Defined for Window operation! Moving all data to a single partition, this can cause serious performance degradation.\n"
     ]
    },
    {
     "name": "stderr",
     "output_type": "stream",
     "text": [
      "[Stage 70:>                                                         (0 + 1) / 4]\r"
     ]
    },
    {
     "name": "stdout",
     "output_type": "stream",
     "text": [
      "22/12/26 10:44:40 WARN WindowExec: No Partition Defined for Window operation! Moving all data to a single partition, this can cause serious performance degradation.\n",
      "22/12/26 10:44:40 WARN WindowExec: No Partition Defined for Window operation! Moving all data to a single partition, this can cause serious performance degradation.\n"
     ]
    },
    {
     "name": "stderr",
     "output_type": "stream",
     "text": [
      "[Stage 70:=============>    (3 + 1) / 4][Stage 72:>                 (0 + 0) / 1]\r"
     ]
    },
    {
     "name": "stdout",
     "output_type": "stream",
     "text": [
      "22/12/26 10:44:47 WARN WindowExec: No Partition Defined for Window operation! Moving all data to a single partition, this can cause serious performance degradation.\n",
      "22/12/26 10:44:47 WARN WindowExec: No Partition Defined for Window operation! Moving all data to a single partition, this can cause serious performance degradation.\n",
      "22/12/26 10:44:47 WARN WindowExec: No Partition Defined for Window operation! Moving all data to a single partition, this can cause serious performance degradation.\n",
      "22/12/26 10:44:47 WARN WindowExec: No Partition Defined for Window operation! Moving all data to a single partition, this can cause serious performance degradation.\n",
      "22/12/26 10:44:47 WARN WindowExec: No Partition Defined for Window operation! Moving all data to a single partition, this can cause serious performance degradation.\n",
      "+----------+-------+---------+-----------+------+\n",
      "|OP_CARRIER|opr_cnt|delay_cnt|delay_ratio|rownum|\n",
      "+----------+-------+---------+-----------+------+\n",
      "|        HA|  26306|     3652|       0.14|     1|\n",
      "|        DL| 296686|    50281|       0.17|     2|\n",
      "|        YX| 106050|    20677|       0.19|     3|\n",
      "|        WN| 420255|    78651|       0.19|     4|\n",
      "|        9E|  83194|    15926|       0.19|     5|\n",
      "|        UA| 184039|    37681|        0.2|     6|\n",
      "|        NK|  63717|    12760|        0.2|     7|\n",
      "|        AA| 296752|    63265|       0.21|     8|\n",
      "|        YV|  69311|    14511|       0.21|     9|\n",
      "|        EV|  46477|    10113|       0.22|    10|\n",
      "|        OO| 262483|    58317|       0.22|    11|\n",
      "|        AS|  80397|    18731|       0.23|    12|\n",
      "|        MQ|  99400|    23873|       0.24|    13|\n",
      "|        OH|  91262|    22096|       0.24|    14|\n",
      "|        B6|  95077|    24130|       0.25|    15|\n",
      "|        F9|  41940|    10383|       0.25|    16|\n",
      "|        G4|  30361|     7964|       0.26|    17|\n",
      "+----------+-------+---------+-----------+------+\n",
      "\n"
     ]
    },
    {
     "name": "stderr",
     "output_type": "stream",
     "text": [
      "                                                                                \r"
     ]
    }
   ],
   "source": [
    "delay_ratio_df = join_delay.withColumn('delay_ratio', f.round(join_delay['delay_cnt']/join_delay['opr_cnt'], 2))\n",
    "rank_data= Window.orderBy('delay_ratio')\n",
    "\n",
    "delay_ratio_df = delay_ratio_df.withColumn('rownum', f.row_number().over(rank_data))\n",
    "delay_ratio_df.show()"
   ]
  },
  {
   "cell_type": "code",
   "execution_count": 20,
   "id": "53156692",
   "metadata": {},
   "outputs": [],
   "source": [
    "# 'UA':'United Airlines', 'AS':'Alaska Airlines', '9E':'Endeavor Air', 'B6':'JetBlue Airways', 'EV':'ExpressJet', \n",
    "# 'F9':'Frontier Airlines', 'G4':'Allegiant Air', 'HA':'Hawaiian Airlines', 'MQ':'Envoy Air', 'NK':'Spirit Airlines',\n",
    "# 'OH':'PSA Airlines', 'OO':'SkyWest Airlines', 'VX':'Virgin America', 'WN':'Southwest Airlines', \n",
    "# 'YV':'Mesa Airline', 'YX':'Republic Airways', 'AA':'American Airlines', 'DL':'Delta Airlines'"
   ]
  },
  {
   "cell_type": "code",
   "execution_count": 25,
   "id": "6fc63025",
   "metadata": {
    "scrolled": false
   },
   "outputs": [
    {
     "name": "stdout",
     "output_type": "stream",
     "text": [
      "22/12/26 10:43:04 WARN WindowExec: No Partition Defined for Window operation! Moving all data to a single partition, this can cause serious performance degradation.\n",
      "22/12/26 10:43:04 WARN WindowExec: No Partition Defined for Window operation! Moving all data to a single partition, this can cause serious performance degradation.\n",
      "22/12/26 10:43:04 WARN WindowExec: No Partition Defined for Window operation! Moving all data to a single partition, this can cause serious performance degradation.\n"
     ]
    },
    {
     "name": "stderr",
     "output_type": "stream",
     "text": [
      "[Stage 60:=============>    (3 + 1) / 4][Stage 61:>                 (0 + 0) / 4]\r"
     ]
    },
    {
     "name": "stdout",
     "output_type": "stream",
     "text": [
      "22/12/26 10:43:12 WARN WindowExec: No Partition Defined for Window operation! Moving all data to a single partition, this can cause serious performance degradation.\n",
      "22/12/26 10:43:12 WARN WindowExec: No Partition Defined for Window operation! Moving all data to a single partition, this can cause serious performance degradation.\n"
     ]
    },
    {
     "name": "stderr",
     "output_type": "stream",
     "text": [
      "[Stage 61:=============>    (3 + 1) / 4][Stage 63:>                 (0 + 0) / 1]\r"
     ]
    },
    {
     "name": "stdout",
     "output_type": "stream",
     "text": [
      "22/12/26 10:43:18 WARN WindowExec: No Partition Defined for Window operation! Moving all data to a single partition, this can cause serious performance degradation.\n",
      "22/12/26 10:43:18 WARN WindowExec: No Partition Defined for Window operation! Moving all data to a single partition, this can cause serious performance degradation.\n",
      "22/12/26 10:43:18 WARN WindowExec: No Partition Defined for Window operation! Moving all data to a single partition, this can cause serious performance degradation.\n",
      "22/12/26 10:43:18 WARN WindowExec: No Partition Defined for Window operation! Moving all data to a single partition, this can cause serious performance degradation.\n",
      "22/12/26 10:43:18 WARN WindowExec: No Partition Defined for Window operation! Moving all data to a single partition, this can cause serious performance degradation.\n",
      "22/12/26 10:43:18 WARN WindowExec: No Partition Defined for Window operation! Moving all data to a single partition, this can cause serious performance degradation.\n"
     ]
    },
    {
     "name": "stderr",
     "output_type": "stream",
     "text": [
      "                                                                                \r"
     ]
    },
    {
     "data": {
      "text/plain": [
       "<AxesSubplot:ylabel='OP_CARRIER'>"
      ]
     },
     "execution_count": 25,
     "metadata": {},
     "output_type": "execute_result"
    },
    {
     "data": {
      "image/png": "[encoded data removed]",
      "text/plain": [
       "<Figure size 640x480 with 1 Axes>"
      ]
     },
     "metadata": {},
     "output_type": "display_data"
    }
   ],
   "source": [
    "# 항공사별 지연율 \n",
    "# 상위 5개 : 'G4':'Allegiant Air' / 'B6':'JetBlue Airways' / 'F9':'Frontier Airlines' / 'MQ':'Envoy Air' / 'OH':'PSA Airlines'\n",
    "# DL -> 미국 항공사 중 가장 큰 대형항공사\n",
    "# HA -> 운항횟수가 가장 적은 미국의 항공사\n",
    "\n",
    "delay_ratio_df.toPandas().plot(kind = 'barh', x = 'OP_CARRIER', y = 'delay_ratio')"
   ]
  },
  {
   "cell_type": "code",
   "execution_count": 44,
   "id": "adc1a822",
   "metadata": {},
   "outputs": [
    {
     "name": "stderr",
     "output_type": "stream",
     "text": [
      "[Stage 131:==========================================>              (3 + 1) / 4]\r"
     ]
    },
    {
     "name": "stdout",
     "output_type": "stream",
     "text": [
      "+---+---------+\n",
      "|day|delay_num|\n",
      "+---+---------+\n",
      "|WED|    89945|\n",
      "|THU|    78849|\n",
      "|TUE|    69933|\n",
      "|SUN|    65135|\n",
      "|MON|    58690|\n",
      "|SAT|    58556|\n",
      "|FRI|    51903|\n",
      "+---+---------+\n",
      "\n"
     ]
    },
    {
     "name": "stderr",
     "output_type": "stream",
     "text": [
      "                                                                                \r"
     ]
    }
   ],
   "source": [
    "# 요일별 지연 횟수 (그래프로)\n",
    "\n",
    "# 연착된 날 선택\n",
    "delay_day_df = flight_df.where('DEP_DEL15 = 1 or ARR_DEL15 = 1')\n",
    "\n",
    "# DAY_OF_WEEK -> 숫자로 되어있는 요일을 한글로 변환\n",
    "d = {1:'SUN', 2:'MON', 3:'TUE', 4:'WED', 5:'THU', 6:'FRI', 7:'SAT'}\n",
    "ff = f.udf(lambda v : d[v])\n",
    "\n",
    "delay_day_df = delay_day_df.withColumn('day', ff(delay_day_df['DAY_OF_WEEK']))\n",
    "\n",
    "# 연착된 날 요일별로 group\n",
    "delay_day_df = delay_day_df.groupby('day').agg(f.count('OP_CARRIER').alias('delay_num')).orderBy(f.desc('delay_num'))\n",
    "delay_day_df.show()"
   ]
  },
  {
   "cell_type": "code",
   "execution_count": 46,
   "id": "56b352b9",
   "metadata": {},
   "outputs": [
    {
     "data": {
      "text/plain": [
       "<AxesSubplot:xlabel='day'>"
      ]
     },
     "execution_count": 46,
     "metadata": {},
     "output_type": "execute_result"
    },
    {
     "data": {
      "image/png": "[encoded data removed]",
      "text/plain": [
       "<Figure size 640x480 with 1 Axes>"
      ]
     },
     "metadata": {},
     "output_type": "display_data"
    }
   ],
   "source": [
    "delay_day_df.toPandas().plot(kind = 'bar', x = 'day', y = 'delay_num', facecolor = 'lightblue')"
   ]
  },
  {
   "cell_type": "code",
   "execution_count": 61,
   "id": "7f3a1d0c",
   "metadata": {
    "scrolled": true
   },
   "outputs": [
    {
     "name": "stderr",
     "output_type": "stream",
     "text": [
      "                                                                                \r"
     ]
    },
    {
     "name": "stdout",
     "output_type": "stream",
     "text": [
      "+------------+-----------+----------+--------+-----------------+---------------------+------+-------------------+----+---------+------------+---------+---------+--------+--------+----------------+--------------+------------+----------+\n",
      "|DAY_OF_MONTH|DAY_OF_WEEK|OP_CARRIER|TAIL_NUM|OP_CARRIER_FL_NUM|ORIGIN_AIRPORT_SEQ_ID|ORIGIN|DEST_AIRPORT_SEQ_ID|DEST|DEP_DEL15|DEP_TIME_BLK|ARR_DEL15|CANCELLED|DIVERTED|DISTANCE|OP_CARRIER_label|TAIL_NUM_label|ORIGIN_label|DEST_label|\n",
      "+------------+-----------+----------+--------+-----------------+---------------------+------+-------------------+----+---------+------------+---------+---------+--------+--------+----------------+--------------+------------+----------+\n",
      "|           1|          6|        MQ|  N269NN|             3825|              1393007|   ORD|            1537002| TUL|      0.0|   1600-1659|      0.0|      0.0|     0.0|   585.0|             6.0|        3972.0|         1.0|      74.0|\n",
      "|           1|          6|        MQ|  N908AE|             3829|              1247805|   JFK|            1069302| BNA|      0.0|   1300-1359|      0.0|      0.0|     0.0|   765.0|             6.0|          80.0|        18.0|      26.0|\n",
      "|           1|          6|        MQ|  N663AR|             3831|              1195302|   GNV|            1330303| MIA|      0.0|   0800-0859|      1.0|      0.0|     0.0|   294.0|             6.0|          78.0|       143.0|      22.0|\n",
      "|           1|          6|        MQ|  N618AE|             3833|              1129806|   DFW|            1484202| SJT|      0.0|   0800-0859|      0.0|      0.0|     0.0|   229.0|             6.0|         271.0|         2.0|     221.0|\n",
      "|           1|          6|        MQ|  N618AE|             3833|              1484202|   SJT|            1129806| DFW|      0.0|   1000-1059|      0.0|      0.0|     0.0|   229.0|             6.0|         271.0|       222.0|       2.0|\n",
      "|           1|          6|        MQ|  N252NN|             3837|              1348602|   MSO|            1129806| DFW|      0.0|   0800-0859|      0.0|      0.0|     0.0|  1320.0|             6.0|        1823.0|       192.0|       2.0|\n",
      "|           1|          6|        MQ|  N246NN|             3838|              1457606|   ROC|            1393007| ORD|      0.0|   1100-1159|      0.0|      0.0|     0.0|   528.0|             6.0|        1622.0|        85.0|       1.0|\n",
      "|           1|          6|        MQ|  N836AE|             3840|              1129806|   DFW|            1478302| SGF|      0.0|   1600-1659|      0.0|      0.0|     0.0|   364.0|             6.0|         562.0|         2.0|     110.0|\n",
      "|           1|          6|        MQ|  N687JS|             3841|              1059904|   BHM|            1330303| MIA|      0.0|   1700-1759|      0.0|      0.0|     0.0|   661.0|             6.0|        3299.0|        70.0|      22.0|\n",
      "|           1|          6|        MQ|  N687JS|             3841|              1330303|   MIA|            1059904| BHM|      0.0|   1600-1659|      0.0|      0.0|     0.0|   661.0|             6.0|        3299.0|        22.0|      70.0|\n",
      "|           1|          6|        MQ|  N274NN|             3842|              1591904|   XNA|            1129806| DFW|      0.0|   0001-0559|      0.0|      0.0|     0.0|   280.0|             6.0|        4599.0|        84.0|       2.0|\n",
      "|           1|          6|        MQ|  N804AE|             3843|              1484202|   SJT|            1129806| DFW|      0.0|   1300-1359|      0.0|      0.0|     0.0|   229.0|             6.0|         666.0|       222.0|       2.0|\n",
      "|           1|          6|        MQ|  N679AE|             3844|              1330303|   MIA|            1524906| TLH|      0.0|   1700-1759|      0.0|      0.0|     0.0|   402.0|             6.0|         111.0|        22.0|     124.0|\n",
      "|           1|          6|        MQ|  N679AE|             3844|              1524906|   TLH|            1330303| MIA|      0.0|   1900-1959|      1.0|      0.0|     0.0|   402.0|             6.0|         111.0|       124.0|      22.0|\n",
      "|           1|          6|        MQ|  N662EH|             3845|              1129806|   DFW|            1190502| GGG|      0.0|   1600-1659|      0.0|      0.0|     0.0|   140.0|             6.0|         129.0|         2.0|     272.0|\n",
      "|           1|          6|        MQ|  N855AE|             3849|              1018502|   AEX|            1129806| DFW|      0.0|   0600-0659|      0.0|      0.0|     0.0|   285.0|             6.0|         355.0|       173.0|       2.0|\n",
      "|           1|          6|        MQ|  N851AE|             3851|              1295304|   LGA|            1106606| CMH|      0.0|   1300-1359|      0.0|      0.0|     0.0|   479.0|             6.0|         536.0|         8.0|      46.0|\n",
      "|           1|          6|        MQ|  N846AE|             3853|              1129806|   DFW|            1324402| MEM|      0.0|   0700-0759|      0.0|      0.0|     0.0|   431.0|             6.0|         363.0|         2.0|      57.0|\n",
      "|           1|          6|        MQ|  N673AE|             3854|              1106606|   CMH|            1393007| ORD|      0.0|   1100-1159|      0.0|      0.0|     0.0|   296.0|             6.0|          24.0|        46.0|       1.0|\n",
      "|           1|          6|        MQ|  N673AE|             3854|              1393007|   ORD|            1106606| CMH|      0.0|   0800-0859|      0.0|      0.0|     0.0|   296.0|             6.0|          24.0|         1.0|      46.0|\n",
      "+------------+-----------+----------+--------+-----------------+---------------------+------+-------------------+----+---------+------------+---------+---------+--------+--------+----------------+--------------+------------+----------+\n",
      "only showing top 20 rows\n",
      "\n"
     ]
    }
   ],
   "source": [
    "# correlation\n",
    "from pyspark.ml.stat import Correlation\n",
    "\n",
    "\n",
    "#correlation을 위해 레이블인코딩\n",
    "from pyspark.ml.feature import StringIndexer\n",
    "indexer = StringIndexer(inputCols = ['OP_CARRIER', 'TAIL_NUM', 'ORIGIN', 'DEST'], outputCols =['OP_CARRIER_label', 'TAIL_NUM_label', 'ORIGIN_label', 'DEST_label'])\n",
    "label_df = indexer.fit(flight_df).transform(flight_df)\n",
    "label_df.show()"
   ]
  },
  {
   "cell_type": "code",
   "execution_count": 62,
   "id": "3819b4d5",
   "metadata": {
    "scrolled": true
   },
   "outputs": [
    {
     "name": "stdout",
     "output_type": "stream",
     "text": [
      "+------------+-----------+-----------------+---------+---------+---------+--------+--------+----------------+--------------+------------+----------+\n",
      "|DAY_OF_MONTH|DAY_OF_WEEK|OP_CARRIER_FL_NUM|DEP_DEL15|ARR_DEL15|CANCELLED|DIVERTED|DISTANCE|OP_CARRIER_label|TAIL_NUM_label|ORIGIN_label|DEST_label|\n",
      "+------------+-----------+-----------------+---------+---------+---------+--------+--------+----------------+--------------+------------+----------+\n",
      "|           1|          6|             3825|      0.0|      0.0|      0.0|     0.0|   585.0|             6.0|        3972.0|         1.0|      74.0|\n",
      "|           1|          6|             3829|      0.0|      0.0|      0.0|     0.0|   765.0|             6.0|          80.0|        18.0|      26.0|\n",
      "|           1|          6|             3831|      0.0|      1.0|      0.0|     0.0|   294.0|             6.0|          78.0|       143.0|      22.0|\n",
      "|           1|          6|             3833|      0.0|      0.0|      0.0|     0.0|   229.0|             6.0|         271.0|         2.0|     221.0|\n",
      "|           1|          6|             3833|      0.0|      0.0|      0.0|     0.0|   229.0|             6.0|         271.0|       222.0|       2.0|\n",
      "|           1|          6|             3837|      0.0|      0.0|      0.0|     0.0|  1320.0|             6.0|        1823.0|       192.0|       2.0|\n",
      "|           1|          6|             3838|      0.0|      0.0|      0.0|     0.0|   528.0|             6.0|        1622.0|        85.0|       1.0|\n",
      "|           1|          6|             3840|      0.0|      0.0|      0.0|     0.0|   364.0|             6.0|         562.0|         2.0|     110.0|\n",
      "|           1|          6|             3841|      0.0|      0.0|      0.0|     0.0|   661.0|             6.0|        3299.0|        70.0|      22.0|\n",
      "|           1|          6|             3841|      0.0|      0.0|      0.0|     0.0|   661.0|             6.0|        3299.0|        22.0|      70.0|\n",
      "|           1|          6|             3842|      0.0|      0.0|      0.0|     0.0|   280.0|             6.0|        4599.0|        84.0|       2.0|\n",
      "|           1|          6|             3843|      0.0|      0.0|      0.0|     0.0|   229.0|             6.0|         666.0|       222.0|       2.0|\n",
      "|           1|          6|             3844|      0.0|      0.0|      0.0|     0.0|   402.0|             6.0|         111.0|        22.0|     124.0|\n",
      "|           1|          6|             3844|      0.0|      1.0|      0.0|     0.0|   402.0|             6.0|         111.0|       124.0|      22.0|\n",
      "|           1|          6|             3845|      0.0|      0.0|      0.0|     0.0|   140.0|             6.0|         129.0|         2.0|     272.0|\n",
      "|           1|          6|             3849|      0.0|      0.0|      0.0|     0.0|   285.0|             6.0|         355.0|       173.0|       2.0|\n",
      "|           1|          6|             3851|      0.0|      0.0|      0.0|     0.0|   479.0|             6.0|         536.0|         8.0|      46.0|\n",
      "|           1|          6|             3853|      0.0|      0.0|      0.0|     0.0|   431.0|             6.0|         363.0|         2.0|      57.0|\n",
      "|           1|          6|             3854|      0.0|      0.0|      0.0|     0.0|   296.0|             6.0|          24.0|        46.0|       1.0|\n",
      "|           1|          6|             3854|      0.0|      0.0|      0.0|     0.0|   296.0|             6.0|          24.0|         1.0|      46.0|\n",
      "+------------+-----------+-----------------+---------+---------+---------+--------+--------+----------------+--------------+------------+----------+\n",
      "only showing top 20 rows\n",
      "\n"
     ]
    }
   ],
   "source": [
    "label_df = label_df.drop('OP_CARRIER', 'TAIL_NUM', 'ORIGIN', 'DEST', 'ORIGIN_AIRPORT_SEQ_ID', 'DEST_AIRPORT_SEQ_ID', 'DEP_TIME_BLK')\n",
    "label_df.show()"
   ]
  },
  {
   "cell_type": "code",
   "execution_count": 66,
   "id": "e0ebb129",
   "metadata": {},
   "outputs": [
    {
     "data": {
      "text/plain": [
       "['DAY_OF_MONTH',\n",
       " 'DAY_OF_WEEK',\n",
       " 'OP_CARRIER_FL_NUM',\n",
       " 'DEP_DEL15',\n",
       " 'ARR_DEL15',\n",
       " 'CANCELLED',\n",
       " 'DIVERTED',\n",
       " 'DISTANCE',\n",
       " 'OP_CARRIER_label',\n",
       " 'TAIL_NUM_label',\n",
       " 'ORIGIN_label',\n",
       " 'DEST_label']"
      ]
     },
     "execution_count": 66,
     "metadata": {},
     "output_type": "execute_result"
    }
   ],
   "source": [
    "label_df.columns"
   ]
  },
  {
   "cell_type": "code",
   "execution_count": 70,
   "id": "569352d0",
   "metadata": {},
   "outputs": [
    {
     "name": "stderr",
     "output_type": "stream",
     "text": [
      "                                                                                \r"
     ]
    }
   ],
   "source": [
    "vector_col = \"corr_features\"\n",
    "assembler = VectorAssembler(inputCols=label_df.columns, \n",
    "                            outputCol=vector_col)\n",
    "myGraph_vector = assembler.transform(label_df).select(vector_col)\n",
    "\n",
    "matrix = Correlation.corr(myGraph_vector, vector_col).collect()[0][0]\n",
    "corrmatrix = matrix.toArray().tolist()"
   ]
  },
  {
   "cell_type": "code",
   "execution_count": 72,
   "id": "e11158fc",
   "metadata": {},
   "outputs": [],
   "source": [
    "from pyspark.sql import SparkSession\n",
    "import pandas as pd\n",
    "\n",
    "spark = SparkSession.builder.getOrCreate()"
   ]
  },
  {
   "cell_type": "code",
   "execution_count": 73,
   "id": "c3d43bf6",
   "metadata": {
    "scrolled": true
   },
   "outputs": [
    {
     "name": "stderr",
     "output_type": "stream",
     "text": [
      "[Stage 175:>                                                        (0 + 1) / 1]\r"
     ]
    },
    {
     "name": "stdout",
     "output_type": "stream",
     "text": [
      "+--------------------+--------------------+--------------------+--------------------+--------------------+--------------------+--------------------+--------------------+--------------------+--------------------+--------------------+--------------------+\n",
      "|        DAY_OF_MONTH|         DAY_OF_WEEK|   OP_CARRIER_FL_NUM|           DEP_DEL15|           ARR_DEL15|           CANCELLED|            DIVERTED|            DISTANCE|    OP_CARRIER_label|      TAIL_NUM_label|        ORIGIN_label|          DEST_label|\n",
      "+--------------------+--------------------+--------------------+--------------------+--------------------+--------------------+--------------------+--------------------+--------------------+--------------------+--------------------+--------------------+\n",
      "|                 1.0|-0.04547277596772...|-0.00913219193600...|-0.01006863342365...|-0.00903850828839...|0.024367348859866158|-0.00263027047999...|-0.00975318631319...|-0.00152190198136...|9.956802529506696E-4|4.227483365584530...|1.483654080110022E-4|\n",
      "|-0.04547277596772...|                 1.0| 0.05808527563055435|0.006959497855197141|0.003274227683383...|-0.00258095418965...|5.357958964434671E-4| 0.01973609472126253|0.016099610965303796|0.007940140893851784|0.006202741684133...|0.006684665072262309|\n",
      "|-0.00913219193600...| 0.05808527563055435|                 1.0|0.014069648639616983|0.023510792339715217|0.047905651456473256|0.010059871835931546|-0.34764175885590765|  0.1415956965506019| -0.3533981922394913| 0.17766033023581448| 0.17869196254294606|\n",
      "|-0.01006863342365...|0.006959497855197141|0.014069648639616983|                 1.0|  0.7181485518894546|-0.05284835916059552|0.019120059629973617|0.010716404489375919|0.013028628802821138|0.001552360529886...|-0.01292229241932...|0.008388548093221938|\n",
      "|-0.00903850828839...|0.003274227683383...|0.023510792339715217|  0.7181485518894546|                 1.0|-0.05965691655522598|-0.02143813808616...|0.006128533592886667| 0.03981494658317077|0.016464941654208358|-0.00318617048028...|0.006882183624236466|\n",
      "|0.024367348859866158|-0.00258095418965...|0.047905651456473256|-0.05284835916059552|-0.05965691655522598|                 1.0|-0.00621212415893...|-0.04682362572911273|-0.00182871057084...|-0.05342734874182717|0.025201044762088745|0.019045276762475853|\n",
      "|-0.00263027047999...|5.357958964434671E-4|0.010059871835931546|0.019120059629973617|-0.02143813808616...|-0.00621212415893...|                 1.0|0.009999616638932696|0.003925080082043402|-0.00188130844141...|-7.48266870064881...| 0.03024899345268565|\n",
      "|-0.00975318631319...| 0.01973609472126253|-0.34764175885590765|0.010716404489375919|0.006128533592886667|-0.04682362572911273|0.009999616638932696|                 1.0|-0.01203159384409...| 0.44869066557762277|-0.18355606416108475| -0.1838501720355398|\n",
      "|-0.00152190198136...|0.016099610965303796|  0.1415956965506019|0.013028628802821138| 0.03981494658317077|-0.00182871057084...|0.003925080082043402|-0.01203159384409...|                 1.0| 0.07534194281756032| 0.15514690366724582| 0.15530304921642707|\n",
      "|9.956802529506696E-4|0.007940140893851784| -0.3533981922394913|0.001552360529886...|0.016464941654208358|-0.05342734874182717|-0.00188130844141...| 0.44869066557762277| 0.07534194281756032|                 1.0| -0.1574836458108389|-0.15753714245020892|\n",
      "|4.227483365584530...|0.006202741684133...| 0.17766033023581448|-0.01292229241932...|-0.00318617048028...|0.025201044762088745|-7.48266870064881...|-0.18355606416108475| 0.15514690366724582| -0.1574836458108389|                 1.0|-0.16379514142953455|\n",
      "|1.483654080110022E-4|0.006684665072262309| 0.17869196254294606|0.008388548093221938|0.006882183624236466|0.019045276762475853| 0.03024899345268565| -0.1838501720355398| 0.15530304921642707|-0.15753714245020892|-0.16379514142953455|                 1.0|\n",
      "+--------------------+--------------------+--------------------+--------------------+--------------------+--------------------+--------------------+--------------------+--------------------+--------------------+--------------------+--------------------+\n",
      "\n"
     ]
    },
    {
     "name": "stderr",
     "output_type": "stream",
     "text": [
      "                                                                                \r"
     ]
    }
   ],
   "source": [
    "corr_df = spark.createDataFrame(corrmatrix, label_df.columns)\n",
    "corr_df.show()"
   ]
  },
  {
   "cell_type": "code",
   "execution_count": 98,
   "id": "5b5674e6",
   "metadata": {},
   "outputs": [
    {
     "name": "stderr",
     "output_type": "stream",
     "text": [
      "/tmp/ipykernel_3946/1025579341.py:5: UserWarning: FixedFormatter should only be used together with FixedLocator\n",
      "  ax.set_xticklabels(['']+attr)\n",
      "/tmp/ipykernel_3946/1025579341.py:6: UserWarning: FixedFormatter should only be used together with FixedLocator\n",
      "  ax.set_yticklabels(['']+attr)\n"
     ]
    },
    {
     "data": {
      "image/png": "[encoded data removed]",
      "text/plain": [
       "<Figure size 1300x1300 with 2 Axes>"
      ]
     },
     "metadata": {},
     "output_type": "display_data"
    }
   ],
   "source": [
    "def plot_corr_matrix(correlations,attr):\n",
    "    fig=plt.figure(figsize=(13, 13))\n",
    "    ax=fig.add_subplot(111)\n",
    "    ax.set_title(\"Correlation Matrix for Specified Attributes\")\n",
    "    ax.set_xticklabels(['']+attr)\n",
    "    ax.set_yticklabels(['']+attr)\n",
    "    cax=ax.matshow(correlations,vmax=1,vmin=-1)\n",
    "    fig.colorbar(cax)\n",
    "    plt.show()\n",
    "\n",
    "plot_corr_matrix(corrmatrix, label_df.columns)"
   ]
  },
  {
   "cell_type": "markdown",
   "id": "3349c4d8",
   "metadata": {},
   "source": [
    "### MODEL"
   ]
  },
  {
   "cell_type": "code",
   "execution_count": 85,
   "id": "07af860c",
   "metadata": {},
   "outputs": [],
   "source": [
    "from pyspark.ml.regression import LinearRegression"
   ]
  },
  {
   "cell_type": "code",
   "execution_count": 86,
   "id": "12a12183",
   "metadata": {},
   "outputs": [
    {
     "data": {
      "text/plain": [
       "['DAY_OF_MONTH',\n",
       " 'DAY_OF_WEEK',\n",
       " 'OP_CARRIER_FL_NUM',\n",
       " 'DEP_DEL15',\n",
       " 'ARR_DEL15',\n",
       " 'CANCELLED',\n",
       " 'DIVERTED',\n",
       " 'DISTANCE',\n",
       " 'OP_CARRIER_label',\n",
       " 'TAIL_NUM_label',\n",
       " 'ORIGIN_label',\n",
       " 'DEST_label']"
      ]
     },
     "execution_count": 86,
     "metadata": {},
     "output_type": "execute_result"
    }
   ],
   "source": [
    "label_df.columns"
   ]
  },
  {
   "cell_type": "code",
   "execution_count": 89,
   "id": "887f7eae",
   "metadata": {
    "scrolled": true
   },
   "outputs": [
    {
     "name": "stdout",
     "output_type": "stream",
     "text": [
      "+--------------------+\n",
      "|            features|\n",
      "+--------------------+\n",
      "|[1.0,6.0,3825.0,0...|\n",
      "|[1.0,6.0,3829.0,0...|\n",
      "|[1.0,6.0,3831.0,0...|\n",
      "|[1.0,6.0,3833.0,0...|\n",
      "|[1.0,6.0,3833.0,0...|\n",
      "|[1.0,6.0,3837.0,0...|\n",
      "|[1.0,6.0,3838.0,0...|\n",
      "|[1.0,6.0,3840.0,0...|\n",
      "|[1.0,6.0,3841.0,0...|\n",
      "|[1.0,6.0,3841.0,0...|\n",
      "|[1.0,6.0,3842.0,0...|\n",
      "|[1.0,6.0,3843.0,0...|\n",
      "|[1.0,6.0,3844.0,0...|\n",
      "|[1.0,6.0,3844.0,0...|\n",
      "|[1.0,6.0,3845.0,0...|\n",
      "|[1.0,6.0,3849.0,0...|\n",
      "|[1.0,6.0,3851.0,0...|\n",
      "|[1.0,6.0,3853.0,0...|\n",
      "|[1.0,6.0,3854.0,0...|\n",
      "|[1.0,6.0,3854.0,0...|\n",
      "+--------------------+\n",
      "only showing top 20 rows\n",
      "\n"
     ]
    }
   ],
   "source": [
    "r = VectorAssembler(inputCols=label_df.columns, outputCol=\"features\")\n",
    "r_df = r.transform(label_df)\n",
    "r_df.select('features').show()"
   ]
  },
  {
   "cell_type": "code",
   "execution_count": 90,
   "id": "493fe9cd",
   "metadata": {},
   "outputs": [],
   "source": [
    "train_df,test_df = r_df.randomSplit([0.8,0.2])"
   ]
  },
  {
   "cell_type": "code",
   "execution_count": 92,
   "id": "2d27a1cf",
   "metadata": {},
   "outputs": [
    {
     "name": "stderr",
     "output_type": "stream",
     "text": [
      "                                                                                \r"
     ]
    },
    {
     "name": "stdout",
     "output_type": "stream",
     "text": [
      "22/12/26 14:01:27 WARN InstanceBuilder$NativeLAPACK: Failed to load implementation from:dev.ludovic.netlib.lapack.JNILAPACK\n"
     ]
    },
    {
     "name": "stderr",
     "output_type": "stream",
     "text": [
      "[Stage 180:==========================================>              (3 + 1) / 4]\r"
     ]
    },
    {
     "name": "stdout",
     "output_type": "stream",
     "text": [
      "기울기(w) [-6.482350510276646e-06,4.6027857269100066e-05,-1.3635859424031265e-08,0.9482559776572678,0.03556582208560761,-0.0015501575245265907,0.013498384439818992,3.258464683657707e-07,-5.614157147308852e-05,-1.9020827532150308e-07,-3.211208467420381e-06,1.0622480172462246e-06]\n",
      "절편(b) 0.0027967070911377742\n",
      "RMSE: 0.01328384721109353\n"
     ]
    },
    {
     "name": "stderr",
     "output_type": "stream",
     "text": [
      "                                                                                \r"
     ]
    }
   ],
   "source": [
    "lr = LinearRegression(featuresCol=\"features\", labelCol=\"DEP_DEL15\", maxIter=50, regParam=0.01, predictionCol=\"predic_weight\")\n",
    "lr_model = lr.fit(train_df)\n",
    "print(\"기울기(w)\",lr_model.coefficients)\n",
    "print(\"절편(b)\", lr_model.intercept)\n",
    "s = lr_model.summary\n",
    "print(\"RMSE:\", s.rootMeanSquaredError)"
   ]
  },
  {
   "cell_type": "code",
   "execution_count": 93,
   "id": "cea0b61c",
   "metadata": {
    "scrolled": true
   },
   "outputs": [
    {
     "name": "stderr",
     "output_type": "stream",
     "text": [
      "                                                                                \r"
     ]
    },
    {
     "data": {
      "text/html": [
       "<div>\n",
       "<style scoped>\n",
       "    .dataframe tbody tr th:only-of-type {\n",
       "        vertical-align: middle;\n",
       "    }\n",
       "\n",
       "    .dataframe tbody tr th {\n",
       "        vertical-align: top;\n",
       "    }\n",
       "\n",
       "    .dataframe thead th {\n",
       "        text-align: right;\n",
       "    }\n",
       "</style>\n",
       "<table border=\"1\" class=\"dataframe\">\n",
       "  <thead>\n",
       "    <tr style=\"text-align: right;\">\n",
       "      <th></th>\n",
       "      <th>DAY_OF_MONTH</th>\n",
       "      <th>DAY_OF_WEEK</th>\n",
       "      <th>OP_CARRIER_FL_NUM</th>\n",
       "      <th>DEP_DEL15</th>\n",
       "      <th>ARR_DEL15</th>\n",
       "      <th>CANCELLED</th>\n",
       "      <th>DIVERTED</th>\n",
       "      <th>DISTANCE</th>\n",
       "      <th>OP_CARRIER_label</th>\n",
       "      <th>TAIL_NUM_label</th>\n",
       "      <th>ORIGIN_label</th>\n",
       "      <th>DEST_label</th>\n",
       "      <th>features</th>\n",
       "      <th>predic_weight</th>\n",
       "    </tr>\n",
       "  </thead>\n",
       "  <tbody>\n",
       "    <tr>\n",
       "      <th>0</th>\n",
       "      <td>1</td>\n",
       "      <td>6</td>\n",
       "      <td>1</td>\n",
       "      <td>0.0</td>\n",
       "      <td>0.0</td>\n",
       "      <td>0.0</td>\n",
       "      <td>0.0</td>\n",
       "      <td>2329.0</td>\n",
       "      <td>10.0</td>\n",
       "      <td>4369.0</td>\n",
       "      <td>15.0</td>\n",
       "      <td>17.0</td>\n",
       "      <td>[1.0, 6.0, 1.0, 0.0, 0.0, 0.0, 0.0, 2329.0, 10...</td>\n",
       "      <td>0.002403</td>\n",
       "    </tr>\n",
       "    <tr>\n",
       "      <th>1</th>\n",
       "      <td>1</td>\n",
       "      <td>6</td>\n",
       "      <td>2</td>\n",
       "      <td>0.0</td>\n",
       "      <td>0.0</td>\n",
       "      <td>0.0</td>\n",
       "      <td>0.0</td>\n",
       "      <td>2329.0</td>\n",
       "      <td>10.0</td>\n",
       "      <td>4369.0</td>\n",
       "      <td>17.0</td>\n",
       "      <td>15.0</td>\n",
       "      <td>[1.0, 6.0, 2.0, 0.0, 0.0, 0.0, 0.0, 2329.0, 10...</td>\n",
       "      <td>0.002394</td>\n",
       "    </tr>\n",
       "    <tr>\n",
       "      <th>2</th>\n",
       "      <td>1</td>\n",
       "      <td>6</td>\n",
       "      <td>2</td>\n",
       "      <td>0.0</td>\n",
       "      <td>0.0</td>\n",
       "      <td>0.0</td>\n",
       "      <td>0.0</td>\n",
       "      <td>2556.0</td>\n",
       "      <td>16.0</td>\n",
       "      <td>5158.0</td>\n",
       "      <td>38.0</td>\n",
       "      <td>5.0</td>\n",
       "      <td>[1.0, 6.0, 2.0, 0.0, 0.0, 0.0, 0.0, 2556.0, 16...</td>\n",
       "      <td>0.001903</td>\n",
       "    </tr>\n",
       "    <tr>\n",
       "      <th>3</th>\n",
       "      <td>1</td>\n",
       "      <td>6</td>\n",
       "      <td>3</td>\n",
       "      <td>1.0</td>\n",
       "      <td>0.0</td>\n",
       "      <td>0.0</td>\n",
       "      <td>0.0</td>\n",
       "      <td>1182.0</td>\n",
       "      <td>12.0</td>\n",
       "      <td>1988.0</td>\n",
       "      <td>1.0</td>\n",
       "      <td>20.0</td>\n",
       "      <td>[1.0, 6.0, 3.0, 1.0, 0.0, 0.0, 0.0, 1182.0, 12...</td>\n",
       "      <td>0.950674</td>\n",
       "    </tr>\n",
       "    <tr>\n",
       "      <th>4</th>\n",
       "      <td>1</td>\n",
       "      <td>6</td>\n",
       "      <td>4</td>\n",
       "      <td>0.0</td>\n",
       "      <td>0.0</td>\n",
       "      <td>0.0</td>\n",
       "      <td>0.0</td>\n",
       "      <td>577.0</td>\n",
       "      <td>12.0</td>\n",
       "      <td>1549.0</td>\n",
       "      <td>23.0</td>\n",
       "      <td>0.0</td>\n",
       "      <td>[1.0, 6.0, 4.0, 0.0, 0.0, 0.0, 0.0, 577.0, 12....</td>\n",
       "      <td>0.002212</td>\n",
       "    </tr>\n",
       "    <tr>\n",
       "      <th>...</th>\n",
       "      <td>...</td>\n",
       "      <td>...</td>\n",
       "      <td>...</td>\n",
       "      <td>...</td>\n",
       "      <td>...</td>\n",
       "      <td>...</td>\n",
       "      <td>...</td>\n",
       "      <td>...</td>\n",
       "      <td>...</td>\n",
       "      <td>...</td>\n",
       "      <td>...</td>\n",
       "      <td>...</td>\n",
       "      <td>...</td>\n",
       "      <td>...</td>\n",
       "    </tr>\n",
       "    <tr>\n",
       "      <th>458664</th>\n",
       "      <td>31</td>\n",
       "      <td>4</td>\n",
       "      <td>7428</td>\n",
       "      <td>0.0</td>\n",
       "      <td>0.0</td>\n",
       "      <td>0.0</td>\n",
       "      <td>0.0</td>\n",
       "      <td>150.0</td>\n",
       "      <td>3.0</td>\n",
       "      <td>931.0</td>\n",
       "      <td>245.0</td>\n",
       "      <td>19.0</td>\n",
       "      <td>[31.0, 4.0, 7428.0, 0.0, 0.0, 0.0, 0.0, 150.0,...</td>\n",
       "      <td>0.001615</td>\n",
       "    </tr>\n",
       "    <tr>\n",
       "      <th>458665</th>\n",
       "      <td>31</td>\n",
       "      <td>4</td>\n",
       "      <td>7431</td>\n",
       "      <td>0.0</td>\n",
       "      <td>0.0</td>\n",
       "      <td>0.0</td>\n",
       "      <td>0.0</td>\n",
       "      <td>150.0</td>\n",
       "      <td>3.0</td>\n",
       "      <td>198.0</td>\n",
       "      <td>19.0</td>\n",
       "      <td>244.0</td>\n",
       "      <td>[31.0, 4.0, 7431.0, 0.0, 0.0, 0.0, 0.0, 150.0,...</td>\n",
       "      <td>0.002720</td>\n",
       "    </tr>\n",
       "    <tr>\n",
       "      <th>458666</th>\n",
       "      <td>31</td>\n",
       "      <td>4</td>\n",
       "      <td>7437</td>\n",
       "      <td>0.0</td>\n",
       "      <td>0.0</td>\n",
       "      <td>0.0</td>\n",
       "      <td>0.0</td>\n",
       "      <td>257.0</td>\n",
       "      <td>3.0</td>\n",
       "      <td>1534.0</td>\n",
       "      <td>13.0</td>\n",
       "      <td>312.0</td>\n",
       "      <td>[31.0, 4.0, 7437.0, 0.0, 0.0, 0.0, 0.0, 257.0,...</td>\n",
       "      <td>0.002592</td>\n",
       "    </tr>\n",
       "    <tr>\n",
       "      <th>458667</th>\n",
       "      <td>31</td>\n",
       "      <td>4</td>\n",
       "      <td>7438</td>\n",
       "      <td>0.0</td>\n",
       "      <td>0.0</td>\n",
       "      <td>0.0</td>\n",
       "      <td>0.0</td>\n",
       "      <td>200.0</td>\n",
       "      <td>3.0</td>\n",
       "      <td>931.0</td>\n",
       "      <td>19.0</td>\n",
       "      <td>311.0</td>\n",
       "      <td>[31.0, 4.0, 7438.0, 0.0, 0.0, 0.0, 0.0, 200.0,...</td>\n",
       "      <td>0.002667</td>\n",
       "    </tr>\n",
       "    <tr>\n",
       "      <th>458668</th>\n",
       "      <td>31</td>\n",
       "      <td>4</td>\n",
       "      <td>7438</td>\n",
       "      <td>0.0</td>\n",
       "      <td>0.0</td>\n",
       "      <td>0.0</td>\n",
       "      <td>0.0</td>\n",
       "      <td>200.0</td>\n",
       "      <td>3.0</td>\n",
       "      <td>931.0</td>\n",
       "      <td>310.0</td>\n",
       "      <td>19.0</td>\n",
       "      <td>[31.0, 4.0, 7438.0, 0.0, 0.0, 0.0, 0.0, 200.0,...</td>\n",
       "      <td>0.001423</td>\n",
       "    </tr>\n",
       "  </tbody>\n",
       "</table>\n",
       "<p>458669 rows × 14 columns</p>\n",
       "</div>"
      ],
      "text/plain": [
       "        DAY_OF_MONTH  DAY_OF_WEEK  OP_CARRIER_FL_NUM  DEP_DEL15  ARR_DEL15  \\\n",
       "0                  1            6                  1        0.0        0.0   \n",
       "1                  1            6                  2        0.0        0.0   \n",
       "2                  1            6                  2        0.0        0.0   \n",
       "3                  1            6                  3        1.0        0.0   \n",
       "4                  1            6                  4        0.0        0.0   \n",
       "...              ...          ...                ...        ...        ...   \n",
       "458664            31            4               7428        0.0        0.0   \n",
       "458665            31            4               7431        0.0        0.0   \n",
       "458666            31            4               7437        0.0        0.0   \n",
       "458667            31            4               7438        0.0        0.0   \n",
       "458668            31            4               7438        0.0        0.0   \n",
       "\n",
       "        CANCELLED  DIVERTED  DISTANCE  OP_CARRIER_label  TAIL_NUM_label  \\\n",
       "0             0.0       0.0    2329.0              10.0          4369.0   \n",
       "1             0.0       0.0    2329.0              10.0          4369.0   \n",
       "2             0.0       0.0    2556.0              16.0          5158.0   \n",
       "3             0.0       0.0    1182.0              12.0          1988.0   \n",
       "4             0.0       0.0     577.0              12.0          1549.0   \n",
       "...           ...       ...       ...               ...             ...   \n",
       "458664        0.0       0.0     150.0               3.0           931.0   \n",
       "458665        0.0       0.0     150.0               3.0           198.0   \n",
       "458666        0.0       0.0     257.0               3.0          1534.0   \n",
       "458667        0.0       0.0     200.0               3.0           931.0   \n",
       "458668        0.0       0.0     200.0               3.0           931.0   \n",
       "\n",
       "        ORIGIN_label  DEST_label  \\\n",
       "0               15.0        17.0   \n",
       "1               17.0        15.0   \n",
       "2               38.0         5.0   \n",
       "3                1.0        20.0   \n",
       "4               23.0         0.0   \n",
       "...              ...         ...   \n",
       "458664         245.0        19.0   \n",
       "458665          19.0       244.0   \n",
       "458666          13.0       312.0   \n",
       "458667          19.0       311.0   \n",
       "458668         310.0        19.0   \n",
       "\n",
       "                                                 features  predic_weight  \n",
       "0       [1.0, 6.0, 1.0, 0.0, 0.0, 0.0, 0.0, 2329.0, 10...       0.002403  \n",
       "1       [1.0, 6.0, 2.0, 0.0, 0.0, 0.0, 0.0, 2329.0, 10...       0.002394  \n",
       "2       [1.0, 6.0, 2.0, 0.0, 0.0, 0.0, 0.0, 2556.0, 16...       0.001903  \n",
       "3       [1.0, 6.0, 3.0, 1.0, 0.0, 0.0, 0.0, 1182.0, 12...       0.950674  \n",
       "4       [1.0, 6.0, 4.0, 0.0, 0.0, 0.0, 0.0, 577.0, 12....       0.002212  \n",
       "...                                                   ...            ...  \n",
       "458664  [31.0, 4.0, 7428.0, 0.0, 0.0, 0.0, 0.0, 150.0,...       0.001615  \n",
       "458665  [31.0, 4.0, 7431.0, 0.0, 0.0, 0.0, 0.0, 150.0,...       0.002720  \n",
       "458666  [31.0, 4.0, 7437.0, 0.0, 0.0, 0.0, 0.0, 257.0,...       0.002592  \n",
       "458667  [31.0, 4.0, 7438.0, 0.0, 0.0, 0.0, 0.0, 200.0,...       0.002667  \n",
       "458668  [31.0, 4.0, 7438.0, 0.0, 0.0, 0.0, 0.0, 200.0,...       0.001423  \n",
       "\n",
       "[458669 rows x 14 columns]"
      ]
     },
     "execution_count": 93,
     "metadata": {},
     "output_type": "execute_result"
    }
   ],
   "source": [
    "tdf = lr_model.transform(test_df)\n",
    "tdf.toPandas()"
   ]
  },
  {
   "cell_type": "code",
   "execution_count": 99,
   "id": "9c5b9809",
   "metadata": {},
   "outputs": [],
   "source": [
    "lrAll = LinearRegression( featuresCol=\"DEP_DEL15\", labelCol=\"weight\",maxIter=50,regParam=0.01, predictionCol=\"predic_weight\")"
   ]
  },
  {
   "cell_type": "code",
   "execution_count": 101,
   "id": "a647cd04",
   "metadata": {},
   "outputs": [
    {
     "name": "stderr",
     "output_type": "stream",
     "text": [
      "                                                                                \r"
     ]
    }
   ],
   "source": [
    "lr_modelAll = lr.fit(r_df)"
   ]
  },
  {
   "cell_type": "code",
   "execution_count": 104,
   "id": "baf360bd",
   "metadata": {},
   "outputs": [
    {
     "name": "stderr",
     "output_type": "stream",
     "text": [
      "                                                                                \r"
     ]
    },
    {
     "ename": "Py4JJavaError",
     "evalue": "An error occurred while calling o1333.collectToPython.\n: java.lang.OutOfMemoryError: GC overhead limit exceeded\n",
     "output_type": "error",
     "traceback": [
      "\u001b[0;31m---------------------------------------------------------------------------\u001b[0m",
      "\u001b[0;31mPy4JJavaError\u001b[0m                             Traceback (most recent call last)",
      "\u001b[0;32m/tmp/ipykernel_3946/2527728366.py\u001b[0m in \u001b[0;36m<module>\u001b[0;34m\u001b[0m\n\u001b[1;32m      1\u001b[0m \u001b[0mtdfAll\u001b[0m \u001b[0;34m=\u001b[0m \u001b[0mlr_model\u001b[0m\u001b[0;34m.\u001b[0m\u001b[0mtransform\u001b[0m\u001b[0;34m(\u001b[0m\u001b[0mr_df\u001b[0m\u001b[0;34m)\u001b[0m\u001b[0;34m\u001b[0m\u001b[0;34m\u001b[0m\u001b[0m\n\u001b[0;32m----> 2\u001b[0;31m \u001b[0mpd\u001b[0m \u001b[0;34m=\u001b[0m \u001b[0mtdfAll\u001b[0m\u001b[0;34m.\u001b[0m\u001b[0mtoPandas\u001b[0m\u001b[0;34m(\u001b[0m\u001b[0;34m)\u001b[0m\u001b[0;34m\u001b[0m\u001b[0;34m\u001b[0m\u001b[0m\n\u001b[0m",
      "\u001b[0;32m~/spark-3.3.1-bin-hadoop2/python/pyspark/sql/pandas/conversion.py\u001b[0m in \u001b[0;36mtoPandas\u001b[0;34m(self)\u001b[0m\n\u001b[1;32m    203\u001b[0m \u001b[0;34m\u001b[0m\u001b[0m\n\u001b[1;32m    204\u001b[0m         \u001b[0;31m# Below is toPandas without Arrow optimization.\u001b[0m\u001b[0;34m\u001b[0m\u001b[0;34m\u001b[0m\u001b[0m\n\u001b[0;32m--> 205\u001b[0;31m         \u001b[0mpdf\u001b[0m \u001b[0;34m=\u001b[0m \u001b[0mpd\u001b[0m\u001b[0;34m.\u001b[0m\u001b[0mDataFrame\u001b[0m\u001b[0;34m.\u001b[0m\u001b[0mfrom_records\u001b[0m\u001b[0;34m(\u001b[0m\u001b[0mself\u001b[0m\u001b[0;34m.\u001b[0m\u001b[0mcollect\u001b[0m\u001b[0;34m(\u001b[0m\u001b[0;34m)\u001b[0m\u001b[0;34m,\u001b[0m \u001b[0mcolumns\u001b[0m\u001b[0;34m=\u001b[0m\u001b[0mself\u001b[0m\u001b[0;34m.\u001b[0m\u001b[0mcolumns\u001b[0m\u001b[0;34m)\u001b[0m\u001b[0;34m\u001b[0m\u001b[0;34m\u001b[0m\u001b[0m\n\u001b[0m\u001b[1;32m    206\u001b[0m         \u001b[0mcolumn_counter\u001b[0m \u001b[0;34m=\u001b[0m \u001b[0mCounter\u001b[0m\u001b[0;34m(\u001b[0m\u001b[0mself\u001b[0m\u001b[0;34m.\u001b[0m\u001b[0mcolumns\u001b[0m\u001b[0;34m)\u001b[0m\u001b[0;34m\u001b[0m\u001b[0;34m\u001b[0m\u001b[0m\n\u001b[1;32m    207\u001b[0m \u001b[0;34m\u001b[0m\u001b[0m\n",
      "\u001b[0;32m~/spark-3.3.1-bin-hadoop2/python/pyspark/sql/dataframe.py\u001b[0m in \u001b[0;36mcollect\u001b[0;34m(self)\u001b[0m\n\u001b[1;32m    815\u001b[0m         \"\"\"\n\u001b[1;32m    816\u001b[0m         \u001b[0;32mwith\u001b[0m \u001b[0mSCCallSiteSync\u001b[0m\u001b[0;34m(\u001b[0m\u001b[0mself\u001b[0m\u001b[0;34m.\u001b[0m\u001b[0m_sc\u001b[0m\u001b[0;34m)\u001b[0m\u001b[0;34m:\u001b[0m\u001b[0;34m\u001b[0m\u001b[0;34m\u001b[0m\u001b[0m\n\u001b[0;32m--> 817\u001b[0;31m             \u001b[0msock_info\u001b[0m \u001b[0;34m=\u001b[0m \u001b[0mself\u001b[0m\u001b[0;34m.\u001b[0m\u001b[0m_jdf\u001b[0m\u001b[0;34m.\u001b[0m\u001b[0mcollectToPython\u001b[0m\u001b[0;34m(\u001b[0m\u001b[0;34m)\u001b[0m\u001b[0;34m\u001b[0m\u001b[0;34m\u001b[0m\u001b[0m\n\u001b[0m\u001b[1;32m    818\u001b[0m         \u001b[0;32mreturn\u001b[0m \u001b[0mlist\u001b[0m\u001b[0;34m(\u001b[0m\u001b[0m_load_from_socket\u001b[0m\u001b[0;34m(\u001b[0m\u001b[0msock_info\u001b[0m\u001b[0;34m,\u001b[0m \u001b[0mBatchedSerializer\u001b[0m\u001b[0;34m(\u001b[0m\u001b[0mCPickleSerializer\u001b[0m\u001b[0;34m(\u001b[0m\u001b[0;34m)\u001b[0m\u001b[0;34m)\u001b[0m\u001b[0;34m)\u001b[0m\u001b[0;34m)\u001b[0m\u001b[0;34m\u001b[0m\u001b[0;34m\u001b[0m\u001b[0m\n\u001b[1;32m    819\u001b[0m \u001b[0;34m\u001b[0m\u001b[0m\n",
      "\u001b[0;32m~/spark-3.3.1-bin-hadoop2/python/lib/py4j-0.10.9.5-src.zip/py4j/java_gateway.py\u001b[0m in \u001b[0;36m__call__\u001b[0;34m(self, *args)\u001b[0m\n\u001b[1;32m   1319\u001b[0m \u001b[0;34m\u001b[0m\u001b[0m\n\u001b[1;32m   1320\u001b[0m         \u001b[0manswer\u001b[0m \u001b[0;34m=\u001b[0m \u001b[0mself\u001b[0m\u001b[0;34m.\u001b[0m\u001b[0mgateway_client\u001b[0m\u001b[0;34m.\u001b[0m\u001b[0msend_command\u001b[0m\u001b[0;34m(\u001b[0m\u001b[0mcommand\u001b[0m\u001b[0;34m)\u001b[0m\u001b[0;34m\u001b[0m\u001b[0;34m\u001b[0m\u001b[0m\n\u001b[0;32m-> 1321\u001b[0;31m         return_value = get_return_value(\n\u001b[0m\u001b[1;32m   1322\u001b[0m             answer, self.gateway_client, self.target_id, self.name)\n\u001b[1;32m   1323\u001b[0m \u001b[0;34m\u001b[0m\u001b[0m\n",
      "\u001b[0;32m~/spark-3.3.1-bin-hadoop2/python/pyspark/sql/utils.py\u001b[0m in \u001b[0;36mdeco\u001b[0;34m(*a, **kw)\u001b[0m\n\u001b[1;32m    188\u001b[0m     \u001b[0;32mdef\u001b[0m \u001b[0mdeco\u001b[0m\u001b[0;34m(\u001b[0m\u001b[0;34m*\u001b[0m\u001b[0ma\u001b[0m\u001b[0;34m:\u001b[0m \u001b[0mAny\u001b[0m\u001b[0;34m,\u001b[0m \u001b[0;34m**\u001b[0m\u001b[0mkw\u001b[0m\u001b[0;34m:\u001b[0m \u001b[0mAny\u001b[0m\u001b[0;34m)\u001b[0m \u001b[0;34m->\u001b[0m \u001b[0mAny\u001b[0m\u001b[0;34m:\u001b[0m\u001b[0;34m\u001b[0m\u001b[0;34m\u001b[0m\u001b[0m\n\u001b[1;32m    189\u001b[0m         \u001b[0;32mtry\u001b[0m\u001b[0;34m:\u001b[0m\u001b[0;34m\u001b[0m\u001b[0;34m\u001b[0m\u001b[0m\n\u001b[0;32m--> 190\u001b[0;31m             \u001b[0;32mreturn\u001b[0m \u001b[0mf\u001b[0m\u001b[0;34m(\u001b[0m\u001b[0;34m*\u001b[0m\u001b[0ma\u001b[0m\u001b[0;34m,\u001b[0m \u001b[0;34m**\u001b[0m\u001b[0mkw\u001b[0m\u001b[0;34m)\u001b[0m\u001b[0;34m\u001b[0m\u001b[0;34m\u001b[0m\u001b[0m\n\u001b[0m\u001b[1;32m    191\u001b[0m         \u001b[0;32mexcept\u001b[0m \u001b[0mPy4JJavaError\u001b[0m \u001b[0;32mas\u001b[0m \u001b[0me\u001b[0m\u001b[0;34m:\u001b[0m\u001b[0;34m\u001b[0m\u001b[0;34m\u001b[0m\u001b[0m\n\u001b[1;32m    192\u001b[0m             \u001b[0mconverted\u001b[0m \u001b[0;34m=\u001b[0m \u001b[0mconvert_exception\u001b[0m\u001b[0;34m(\u001b[0m\u001b[0me\u001b[0m\u001b[0;34m.\u001b[0m\u001b[0mjava_exception\u001b[0m\u001b[0;34m)\u001b[0m\u001b[0;34m\u001b[0m\u001b[0;34m\u001b[0m\u001b[0m\n",
      "\u001b[0;32m~/spark-3.3.1-bin-hadoop2/python/lib/py4j-0.10.9.5-src.zip/py4j/protocol.py\u001b[0m in \u001b[0;36mget_return_value\u001b[0;34m(answer, gateway_client, target_id, name)\u001b[0m\n\u001b[1;32m    324\u001b[0m             \u001b[0mvalue\u001b[0m \u001b[0;34m=\u001b[0m \u001b[0mOUTPUT_CONVERTER\u001b[0m\u001b[0;34m[\u001b[0m\u001b[0mtype\u001b[0m\u001b[0;34m]\u001b[0m\u001b[0;34m(\u001b[0m\u001b[0manswer\u001b[0m\u001b[0;34m[\u001b[0m\u001b[0;36m2\u001b[0m\u001b[0;34m:\u001b[0m\u001b[0;34m]\u001b[0m\u001b[0;34m,\u001b[0m \u001b[0mgateway_client\u001b[0m\u001b[0;34m)\u001b[0m\u001b[0;34m\u001b[0m\u001b[0;34m\u001b[0m\u001b[0m\n\u001b[1;32m    325\u001b[0m             \u001b[0;32mif\u001b[0m \u001b[0manswer\u001b[0m\u001b[0;34m[\u001b[0m\u001b[0;36m1\u001b[0m\u001b[0;34m]\u001b[0m \u001b[0;34m==\u001b[0m \u001b[0mREFERENCE_TYPE\u001b[0m\u001b[0;34m:\u001b[0m\u001b[0;34m\u001b[0m\u001b[0;34m\u001b[0m\u001b[0m\n\u001b[0;32m--> 326\u001b[0;31m                 raise Py4JJavaError(\n\u001b[0m\u001b[1;32m    327\u001b[0m                     \u001b[0;34m\"An error occurred while calling {0}{1}{2}.\\n\"\u001b[0m\u001b[0;34m.\u001b[0m\u001b[0;34m\u001b[0m\u001b[0;34m\u001b[0m\u001b[0m\n\u001b[1;32m    328\u001b[0m                     format(target_id, \".\", name), value)\n",
      "\u001b[0;31mPy4JJavaError\u001b[0m: An error occurred while calling o1333.collectToPython.\n: java.lang.OutOfMemoryError: GC overhead limit exceeded\n"
     ]
    }
   ],
   "source": [
    "tdfAll = lr_model.transform(r_df)\n",
    "pd = tdfAll.toPandas()"
   ]
  },
  {
   "cell_type": "code",
   "execution_count": null,
   "id": "bb05c0cd",
   "metadata": {},
   "outputs": [],
   "source": [
    "plt.plot(pd['weight'])\n",
    "plt.plot(pd['predic_weight'],'r--')\n",
    "plt.show()"
   ]
  },
  {
   "cell_type": "code",
   "execution_count": null,
   "id": "438615e5",
   "metadata": {},
   "outputs": [],
   "source": []
  }
 ],
 "metadata": {
  "kernelspec": {
   "display_name": "Python 3 (ipykernel)",
   "language": "python",
   "name": "python3"
  },
  "language_info": {
   "codemirror_mode": {
    "name": "ipython",
    "version": 3
   },
   "file_extension": ".py",
   "mimetype": "text/x-python",
   "name": "python",
   "nbconvert_exporter": "python",
   "pygments_lexer": "ipython3",
   "version": "3.9.13"
  }
 },
 "nbformat": 4,
 "nbformat_minor": 5
}
